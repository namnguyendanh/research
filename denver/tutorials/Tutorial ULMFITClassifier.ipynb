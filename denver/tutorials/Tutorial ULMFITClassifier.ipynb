{
 "cells": [
  {
   "cell_type": "code",
   "execution_count": 2,
   "metadata": {},
   "outputs": [],
   "source": [
    "from denver.data.data_source import DenverDataSource\n",
    "\n",
    "train_path = './data/salebot/train.csv'\n",
    "test_path = './data/salebot/test.csv'\n",
    "\n",
    "data_source = DenverDataSource.from_csv(train_path=train_path,\n",
    "                                        test_path=test_path,\n",
    "                                        text_col='text',\n",
    "                                        label_col='intent',\n",
    "                                        lowercase=True, \n",
    "                                        rm_special_token=True, \n",
    "                                        rm_url=True, \n",
    "                                        rm_emoji=True)"
   ]
  },
  {
   "cell_type": "code",
   "execution_count": 3,
   "metadata": {},
   "outputs": [
    {
     "data": {
      "text/html": [],
      "text/plain": [
       "<IPython.core.display.HTML object>"
      ]
     },
     "metadata": {},
     "output_type": "display_data"
    },
    {
     "data": {
      "text/html": [],
      "text/plain": [
       "<IPython.core.display.HTML object>"
      ]
     },
     "metadata": {},
     "output_type": "display_data"
    },
    {
     "name": "stdout",
     "output_type": "stream",
     "text": [
      "\n",
      "➖➖➖➖➖➖➖➖➖➖ FINE-TUNING ➖➖➖➖➖➖➖➖➖➖\n",
      "\n"
     ]
    },
    {
     "data": {
      "text/html": [
       "<table border=\"1\" class=\"dataframe\">\n",
       "  <thead>\n",
       "    <tr style=\"text-align: left;\">\n",
       "      <th>epoch</th>\n",
       "      <th>train_loss</th>\n",
       "      <th>valid_loss</th>\n",
       "      <th>accuracy</th>\n",
       "      <th>time</th>\n",
       "    </tr>\n",
       "  </thead>\n",
       "  <tbody>\n",
       "    <tr>\n",
       "      <td>0</td>\n",
       "      <td>4.500978</td>\n",
       "      <td>3.869695</td>\n",
       "      <td>0.272573</td>\n",
       "      <td>00:01</td>\n",
       "    </tr>\n",
       "    <tr>\n",
       "      <td>1</td>\n",
       "      <td>4.133433</td>\n",
       "      <td>3.566526</td>\n",
       "      <td>0.282450</td>\n",
       "      <td>00:00</td>\n",
       "    </tr>\n",
       "  </tbody>\n",
       "</table>"
      ],
      "text/plain": [
       "<IPython.core.display.HTML object>"
      ]
     },
     "metadata": {},
     "output_type": "display_data"
    },
    {
     "data": {
      "text/html": [
       "<table border=\"1\" class=\"dataframe\">\n",
       "  <thead>\n",
       "    <tr style=\"text-align: left;\">\n",
       "      <th>epoch</th>\n",
       "      <th>train_loss</th>\n",
       "      <th>valid_loss</th>\n",
       "      <th>accuracy</th>\n",
       "      <th>time</th>\n",
       "    </tr>\n",
       "  </thead>\n",
       "  <tbody>\n",
       "    <tr>\n",
       "      <td>0</td>\n",
       "      <td>3.668547</td>\n",
       "      <td>3.461620</td>\n",
       "      <td>0.286133</td>\n",
       "      <td>00:00</td>\n",
       "    </tr>\n",
       "    <tr>\n",
       "      <td>1</td>\n",
       "      <td>3.538336</td>\n",
       "      <td>3.034924</td>\n",
       "      <td>0.334263</td>\n",
       "      <td>00:00</td>\n",
       "    </tr>\n",
       "    <tr>\n",
       "      <td>2</td>\n",
       "      <td>3.324780</td>\n",
       "      <td>2.707021</td>\n",
       "      <td>0.383901</td>\n",
       "      <td>00:00</td>\n",
       "    </tr>\n",
       "    <tr>\n",
       "      <td>3</td>\n",
       "      <td>3.153852</td>\n",
       "      <td>2.608732</td>\n",
       "      <td>0.400251</td>\n",
       "      <td>00:00</td>\n",
       "    </tr>\n",
       "    <tr>\n",
       "      <td>4</td>\n",
       "      <td>3.030699</td>\n",
       "      <td>2.541165</td>\n",
       "      <td>0.410631</td>\n",
       "      <td>00:00</td>\n",
       "    </tr>\n",
       "    <tr>\n",
       "      <td>5</td>\n",
       "      <td>2.937804</td>\n",
       "      <td>2.503082</td>\n",
       "      <td>0.417997</td>\n",
       "      <td>00:00</td>\n",
       "    </tr>\n",
       "    <tr>\n",
       "      <td>6</td>\n",
       "      <td>2.866714</td>\n",
       "      <td>2.486787</td>\n",
       "      <td>0.420703</td>\n",
       "      <td>00:00</td>\n",
       "    </tr>\n",
       "    <tr>\n",
       "      <td>7</td>\n",
       "      <td>2.812361</td>\n",
       "      <td>2.484737</td>\n",
       "      <td>0.421289</td>\n",
       "      <td>00:00</td>\n",
       "    </tr>\n",
       "  </tbody>\n",
       "</table>"
      ],
      "text/plain": [
       "<IPython.core.display.HTML object>"
      ]
     },
     "metadata": {},
     "output_type": "display_data"
    }
   ],
   "source": [
    "from denver.trainers.language_model_trainer import LanguageModelTrainer\n",
    "\n",
    "lm_trainer = LanguageModelTrainer(pretrain='babe')\n",
    "lm_trainer.fine_tuning_from_df(data_df=data_source.train.data,\n",
    "                            batch_size= 128,\n",
    "                            num_epochs=10,\n",
    "                            learning_rate=1e-3,\n",
    "                            moms=[0.8, 0.7],\n",
    "                            drop_mult=0.5)"
   ]
  },
  {
   "cell_type": "code",
   "execution_count": 4,
   "metadata": {},
   "outputs": [
    {
     "data": {
      "text/html": [],
      "text/plain": [
       "<IPython.core.display.HTML object>"
      ]
     },
     "metadata": {},
     "output_type": "display_data"
    },
    {
     "data": {
      "text/html": [],
      "text/plain": [
       "<IPython.core.display.HTML object>"
      ]
     },
     "metadata": {},
     "output_type": "display_data"
    },
    {
     "data": {
      "text/html": [],
      "text/plain": [
       "<IPython.core.display.HTML object>"
      ]
     },
     "metadata": {},
     "output_type": "display_data"
    },
    {
     "data": {
      "text/html": [],
      "text/plain": [
       "<IPython.core.display.HTML object>"
      ]
     },
     "metadata": {},
     "output_type": "display_data"
    },
    {
     "name": "stdout",
     "output_type": "stream",
     "text": [
      "\n",
      "➖➖➖➖➖➖➖➖➖➖ TRAINING ➖➖➖➖➖➖➖➖➖➖\n",
      "\n"
     ]
    },
    {
     "data": {
      "text/html": [
       "<table border=\"1\" class=\"dataframe\">\n",
       "  <thead>\n",
       "    <tr style=\"text-align: left;\">\n",
       "      <th>epoch</th>\n",
       "      <th>train_loss</th>\n",
       "      <th>valid_loss</th>\n",
       "      <th>accuracy</th>\n",
       "      <th>f_beta</th>\n",
       "      <th>precision</th>\n",
       "      <th>recall</th>\n",
       "      <th>time</th>\n",
       "    </tr>\n",
       "  </thead>\n",
       "  <tbody>\n",
       "    <tr>\n",
       "      <td>0</td>\n",
       "      <td>0.825038</td>\n",
       "      <td>0.800286</td>\n",
       "      <td>0.818898</td>\n",
       "      <td>0.811269</td>\n",
       "      <td>0.857467</td>\n",
       "      <td>0.818898</td>\n",
       "      <td>00:01</td>\n",
       "    </tr>\n",
       "    <tr>\n",
       "      <td>1</td>\n",
       "      <td>0.501912</td>\n",
       "      <td>0.283712</td>\n",
       "      <td>0.912073</td>\n",
       "      <td>0.911795</td>\n",
       "      <td>0.913461</td>\n",
       "      <td>0.912073</td>\n",
       "      <td>00:00</td>\n",
       "    </tr>\n",
       "    <tr>\n",
       "      <td>2</td>\n",
       "      <td>0.330435</td>\n",
       "      <td>0.229726</td>\n",
       "      <td>0.929134</td>\n",
       "      <td>0.929342</td>\n",
       "      <td>0.931849</td>\n",
       "      <td>0.929134</td>\n",
       "      <td>00:00</td>\n",
       "    </tr>\n",
       "  </tbody>\n",
       "</table>"
      ],
      "text/plain": [
       "<IPython.core.display.HTML object>"
      ]
     },
     "metadata": {},
     "output_type": "display_data"
    },
    {
     "data": {
      "text/html": [
       "<table border=\"1\" class=\"dataframe\">\n",
       "  <thead>\n",
       "    <tr style=\"text-align: left;\">\n",
       "      <th>epoch</th>\n",
       "      <th>train_loss</th>\n",
       "      <th>valid_loss</th>\n",
       "      <th>accuracy</th>\n",
       "      <th>f_beta</th>\n",
       "      <th>precision</th>\n",
       "      <th>recall</th>\n",
       "      <th>time</th>\n",
       "    </tr>\n",
       "  </thead>\n",
       "  <tbody>\n",
       "    <tr>\n",
       "      <td>0</td>\n",
       "      <td>0.151974</td>\n",
       "      <td>0.351507</td>\n",
       "      <td>0.909449</td>\n",
       "      <td>0.909621</td>\n",
       "      <td>0.911782</td>\n",
       "      <td>0.909449</td>\n",
       "      <td>00:00</td>\n",
       "    </tr>\n",
       "    <tr>\n",
       "      <td>1</td>\n",
       "      <td>0.224414</td>\n",
       "      <td>0.342895</td>\n",
       "      <td>0.918635</td>\n",
       "      <td>0.918469</td>\n",
       "      <td>0.921290</td>\n",
       "      <td>0.918635</td>\n",
       "      <td>00:00</td>\n",
       "    </tr>\n",
       "    <tr>\n",
       "      <td>2</td>\n",
       "      <td>0.190828</td>\n",
       "      <td>0.291064</td>\n",
       "      <td>0.931759</td>\n",
       "      <td>0.931732</td>\n",
       "      <td>0.933447</td>\n",
       "      <td>0.931759</td>\n",
       "      <td>00:00</td>\n",
       "    </tr>\n",
       "  </tbody>\n",
       "</table>"
      ],
      "text/plain": [
       "<IPython.core.display.HTML object>"
      ]
     },
     "metadata": {},
     "output_type": "display_data"
    },
    {
     "data": {
      "text/html": [
       "<table border=\"1\" class=\"dataframe\">\n",
       "  <thead>\n",
       "    <tr style=\"text-align: left;\">\n",
       "      <th>epoch</th>\n",
       "      <th>train_loss</th>\n",
       "      <th>valid_loss</th>\n",
       "      <th>accuracy</th>\n",
       "      <th>f_beta</th>\n",
       "      <th>precision</th>\n",
       "      <th>recall</th>\n",
       "      <th>time</th>\n",
       "    </tr>\n",
       "  </thead>\n",
       "  <tbody>\n",
       "    <tr>\n",
       "      <td>0</td>\n",
       "      <td>0.247263</td>\n",
       "      <td>0.360245</td>\n",
       "      <td>0.916010</td>\n",
       "      <td>0.916126</td>\n",
       "      <td>0.918462</td>\n",
       "      <td>0.916011</td>\n",
       "      <td>00:00</td>\n",
       "    </tr>\n",
       "  </tbody>\n",
       "</table>"
      ],
      "text/plain": [
       "<IPython.core.display.HTML object>"
      ]
     },
     "metadata": {},
     "output_type": "display_data"
    },
    {
     "data": {
      "text/html": [
       "<table border=\"1\" class=\"dataframe\">\n",
       "  <thead>\n",
       "    <tr style=\"text-align: left;\">\n",
       "      <th>epoch</th>\n",
       "      <th>train_loss</th>\n",
       "      <th>valid_loss</th>\n",
       "      <th>accuracy</th>\n",
       "      <th>f_beta</th>\n",
       "      <th>precision</th>\n",
       "      <th>recall</th>\n",
       "      <th>time</th>\n",
       "    </tr>\n",
       "  </thead>\n",
       "  <tbody>\n",
       "    <tr>\n",
       "      <td>0</td>\n",
       "      <td>0.160332</td>\n",
       "      <td>0.250997</td>\n",
       "      <td>0.930446</td>\n",
       "      <td>0.930649</td>\n",
       "      <td>0.932393</td>\n",
       "      <td>0.930446</td>\n",
       "      <td>00:00</td>\n",
       "    </tr>\n",
       "  </tbody>\n",
       "</table>"
      ],
      "text/plain": [
       "<IPython.core.display.HTML object>"
      ]
     },
     "metadata": {},
     "output_type": "display_data"
    },
    {
     "data": {
      "text/html": [
       "<table border=\"1\" class=\"dataframe\">\n",
       "  <thead>\n",
       "    <tr style=\"text-align: left;\">\n",
       "      <th>epoch</th>\n",
       "      <th>train_loss</th>\n",
       "      <th>valid_loss</th>\n",
       "      <th>accuracy</th>\n",
       "      <th>f_beta</th>\n",
       "      <th>precision</th>\n",
       "      <th>recall</th>\n",
       "      <th>time</th>\n",
       "    </tr>\n",
       "  </thead>\n",
       "  <tbody>\n",
       "    <tr>\n",
       "      <td>0</td>\n",
       "      <td>0.089256</td>\n",
       "      <td>0.244898</td>\n",
       "      <td>0.933071</td>\n",
       "      <td>0.932944</td>\n",
       "      <td>0.934600</td>\n",
       "      <td>0.933071</td>\n",
       "      <td>00:00</td>\n",
       "    </tr>\n",
       "    <tr>\n",
       "      <td>1</td>\n",
       "      <td>0.074915</td>\n",
       "      <td>0.224993</td>\n",
       "      <td>0.939633</td>\n",
       "      <td>0.939482</td>\n",
       "      <td>0.940544</td>\n",
       "      <td>0.939633</td>\n",
       "      <td>00:00</td>\n",
       "    </tr>\n",
       "    <tr>\n",
       "      <td>2</td>\n",
       "      <td>0.059476</td>\n",
       "      <td>0.237574</td>\n",
       "      <td>0.944882</td>\n",
       "      <td>0.944872</td>\n",
       "      <td>0.946305</td>\n",
       "      <td>0.944882</td>\n",
       "      <td>00:00</td>\n",
       "    </tr>\n",
       "    <tr>\n",
       "      <td>3</td>\n",
       "      <td>0.049340</td>\n",
       "      <td>0.238110</td>\n",
       "      <td>0.943570</td>\n",
       "      <td>0.943495</td>\n",
       "      <td>0.944467</td>\n",
       "      <td>0.943570</td>\n",
       "      <td>00:00</td>\n",
       "    </tr>\n",
       "    <tr>\n",
       "      <td>4</td>\n",
       "      <td>0.042082</td>\n",
       "      <td>0.247935</td>\n",
       "      <td>0.940945</td>\n",
       "      <td>0.940791</td>\n",
       "      <td>0.942367</td>\n",
       "      <td>0.940945</td>\n",
       "      <td>00:00</td>\n",
       "    </tr>\n",
       "    <tr>\n",
       "      <td>5</td>\n",
       "      <td>0.040215</td>\n",
       "      <td>0.241235</td>\n",
       "      <td>0.946194</td>\n",
       "      <td>0.945983</td>\n",
       "      <td>0.946875</td>\n",
       "      <td>0.946194</td>\n",
       "      <td>00:00</td>\n",
       "    </tr>\n",
       "  </tbody>\n",
       "</table>"
      ],
      "text/plain": [
       "<IPython.core.display.HTML object>"
      ]
     },
     "metadata": {},
     "output_type": "display_data"
    },
    {
     "name": "stdout",
     "output_type": "stream",
     "text": [
      "2020-12-17 03:16:12,141 INFO  denver.learners.ulmfit_cls_learner:197 - Save the model...\n",
      "2020-12-17 03:16:19,777 INFO  denver.learners.ulmfit_cls_learner:699 - Path to the saved model: /workspace/nlp_training/phucpx/tutorial/denver/models/intent/denver.pkl\n"
     ]
    },
    {
     "data": {
      "text/html": [],
      "text/plain": [
       "<IPython.core.display.HTML object>"
      ]
     },
     "metadata": {},
     "output_type": "display_data"
    },
    {
     "name": "stdout",
     "output_type": "stream",
     "text": [
      "\n",
      "⏰  The trained time: 0:00:30.659655\n",
      "\n",
      "\n",
      "░▒▓█  Evaluated Valid: \n",
      "+--------------------+--------------------+--------------------+--------------------+-------------------+\n",
      "|        loss        |        acc         |         f1         |     precision      |      recall       |\n",
      "+--------------------+--------------------+--------------------+--------------------+-------------------+\n",
      "| 0.2990902364253998 | 0.9225721955299377 | 0.9226223826408386 | 0.9255156517028809 | 0.922572135925293 |\n",
      "+--------------------+--------------------+--------------------+--------------------+-------------------+\n"
     ]
    }
   ],
   "source": [
    "from denver.learners import ULMFITClassificationLearner\n",
    "from denver.trainers.trainer import ModelTrainer\n",
    "\n",
    "learn = ULMFITClassificationLearner(mode='training', data_source=data_source)\n",
    "\n",
    "trainer = ModelTrainer(learn=learn)\n",
    "trainer.train(base_path='./models/intent/', \n",
    "              model_file='denver.pkl', \n",
    "              learning_rate=2e-2, \n",
    "              batch_size=128, \n",
    "              num_epochs=14)"
   ]
  },
  {
   "cell_type": "code",
   "execution_count": 5,
   "metadata": {},
   "outputs": [
    {
     "name": "stdout",
     "output_type": "stream",
     "text": [
      "2020-12-17 03:16:19,978 INFO  denver.learners.ulmfit_cls_learner:353 - Evaluating...\n"
     ]
    },
    {
     "data": {
      "text/html": [],
      "text/plain": [
       "<IPython.core.display.HTML object>"
      ]
     },
     "metadata": {},
     "output_type": "display_data"
    },
    {
     "data": {
      "text/html": [],
      "text/plain": [
       "<IPython.core.display.HTML object>"
      ]
     },
     "metadata": {},
     "output_type": "display_data"
    },
    {
     "name": "stdout",
     "output_type": "stream",
     "text": [
      "{'acc': [0.9266247379454927],\n",
      " 'cls_detailed_results': '                      precision    recall  '\n",
      "                         'f1-score   support\\n'\n",
      "                         '\\n'\n",
      "                         'ask_about_age_of_use       0.98      0.92      '\n",
      "                         '0.95        66\\n'\n",
      "                         ' ask_about_available       0.89      0.86      '\n",
      "                         '0.88        37\\n'\n",
      "                         '     ask_about_brand       0.93      0.86      '\n",
      "                         '0.90        80\\n'\n",
      "                         '     ask_about_color       0.98      0.94      '\n",
      "                         '0.96        66\\n'\n",
      "                         ' ask_about_guarantee       0.97      0.93      '\n",
      "                         '0.95        60\\n'\n",
      "                         '     ask_about_image       0.91      1.00      '\n",
      "                         '0.95        69\\n'\n",
      "                         '      ask_about_link       1.00      0.88      '\n",
      "                         '0.93        65\\n'\n",
      "                         '  ask_about_material       0.97      0.98      '\n",
      "                         '0.97        89\\n'\n",
      "                         '    ask_about_origin       0.93      0.91      '\n",
      "                         '0.92        90\\n'\n",
      "                         '     ask_about_price       0.87      0.90      '\n",
      "                         '0.88        89\\n'\n",
      "                         ' ask_about_promotion       0.80      0.98      '\n",
      "                         '0.88        66\\n'\n",
      "                         '     ask_about_sells       0.90      0.92      '\n",
      "                         '0.91        51\\n'\n",
      "                         '      ask_about_size       0.93      0.95      '\n",
      "                         '0.94        66\\n'\n",
      "                         '    ask_about_weight       0.95      0.90      '\n",
      "                         '0.92        60\\n'\n",
      "                         '\\n'\n",
      "                         '            accuracy                           '\n",
      "                         '0.93       954\\n'\n",
      "                         '           macro avg       0.93      0.92      '\n",
      "                         '0.93       954\\n'\n",
      "                         '        weighted avg       0.93      0.93      '\n",
      "                         '0.93       954\\n',\n",
      " 'f1': [0.9269342792201258],\n",
      " 'precision': [0.9300667448346918],\n",
      " 'recall': [0.9266247379454927]}\n"
     ]
    }
   ],
   "source": [
    "# evaluate the test set in data source\n",
    "metrics = learn.evaluate()\n",
    "\n",
    "from pprint import pprint\n",
    "pprint(metrics)"
   ]
  },
  {
   "cell_type": "code",
   "execution_count": 6,
   "metadata": {},
   "outputs": [
    {
     "name": "stdout",
     "output_type": "stream",
     "text": [
      "{'intent': {'confidence': 0.5957598686218262, 'name': 'ask_about_origin'},\n",
      " 'intent_ranking': [{'confidence': 4.442536737769842e-05,\n",
      "                     'name': 'ask_about_age_of_use'},\n",
      "                    {'confidence': 9.711595339467749e-05,\n",
      "                     'name': 'ask_about_available'},\n",
      "                    {'confidence': 0.2590196132659912,\n",
      "                     'name': 'ask_about_brand'},\n",
      "                    {'confidence': 1.65079709404381e-05,\n",
      "                     'name': 'ask_about_color'},\n",
      "                    {'confidence': 0.0019619252998381853,\n",
      "                     'name': 'ask_about_guarantee'},\n",
      "                    {'confidence': 0.00027482578298076987,\n",
      "                     'name': 'ask_about_image'},\n",
      "                    {'confidence': 0.04370839521288872,\n",
      "                     'name': 'ask_about_link'},\n",
      "                    {'confidence': 0.0004990660236217082,\n",
      "                     'name': 'ask_about_material'},\n",
      "                    {'confidence': 0.5957598686218262,\n",
      "                     'name': 'ask_about_origin'},\n",
      "                    {'confidence': 0.015106800943613052,\n",
      "                     'name': 'ask_about_price'},\n",
      "                    {'confidence': 0.07367534935474396,\n",
      "                     'name': 'ask_about_promotion'},\n",
      "                    {'confidence': 0.007381660398095846,\n",
      "                     'name': 'ask_about_sells'},\n",
      "                    {'confidence': 0.0024055761750787497,\n",
      "                     'name': 'ask_about_size'},\n",
      "                    {'confidence': 4.891136632068083e-05,\n",
      "                     'name': 'ask_about_weight'}]}\n"
     ]
    }
   ],
   "source": [
    "text = \"Sữa tắm arun bán ở link nào shop\"\n",
    "\n",
    "# Output to rasa-format\n",
    "output = learn.process(sample=text, \n",
    "                       lowercase=True, \n",
    "                       rm_special_token=True, \n",
    "                       rm_url=True, \n",
    "                       rm_emoji=True)\n",
    "\n",
    "from pprint import pprint\n",
    "pprint(output)"
   ]
  },
  {
   "cell_type": "code",
   "execution_count": 9,
   "metadata": {},
   "outputs": [
    {
     "data": {
      "text/html": [],
      "text/plain": [
       "<IPython.core.display.HTML object>"
      ]
     },
     "metadata": {},
     "output_type": "display_data"
    },
    {
     "data": {
      "text/html": [],
      "text/plain": [
       "<IPython.core.display.HTML object>"
      ]
     },
     "metadata": {},
     "output_type": "display_data"
    },
    {
     "name": "stdout",
     "output_type": "stream",
     "text": [
      "2020-12-17 03:17:05,538 INFO  denver.learners.ulmfit_cls_learner:353 - Evaluating...\n"
     ]
    },
    {
     "data": {
      "text/html": [],
      "text/plain": [
       "<IPython.core.display.HTML object>"
      ]
     },
     "metadata": {},
     "output_type": "display_data"
    },
    {
     "data": {
      "text/html": [],
      "text/plain": [
       "<IPython.core.display.HTML object>"
      ]
     },
     "metadata": {},
     "output_type": "display_data"
    },
    {
     "name": "stdout",
     "output_type": "stream",
     "text": [
      "{'acc': [0.9276729559748428],\n",
      " 'cls_detailed_results': '                      precision    recall  '\n",
      "                         'f1-score   support\\n'\n",
      "                         '\\n'\n",
      "                         'ask_about_age_of_use       0.98      0.92      '\n",
      "                         '0.95        66\\n'\n",
      "                         ' ask_about_available       0.86      0.84      '\n",
      "                         '0.85        37\\n'\n",
      "                         '     ask_about_brand       0.93      0.86      '\n",
      "                         '0.90        80\\n'\n",
      "                         '     ask_about_color       0.97      0.92      '\n",
      "                         '0.95        66\\n'\n",
      "                         ' ask_about_guarantee       0.97      0.93      '\n",
      "                         '0.95        60\\n'\n",
      "                         '     ask_about_image       0.92      1.00      '\n",
      "                         '0.96        69\\n'\n",
      "                         '      ask_about_link       1.00      0.91      '\n",
      "                         '0.95        65\\n'\n",
      "                         '  ask_about_material       0.97      0.98      '\n",
      "                         '0.97        89\\n'\n",
      "                         '    ask_about_origin       0.93      0.91      '\n",
      "                         '0.92        90\\n'\n",
      "                         '     ask_about_price       0.86      0.91      '\n",
      "                         '0.89        89\\n'\n",
      "                         ' ask_about_promotion       0.82      0.98      '\n",
      "                         '0.90        66\\n'\n",
      "                         '     ask_about_sells       0.90      0.92      '\n",
      "                         '0.91        51\\n'\n",
      "                         '      ask_about_size       0.93      0.95      '\n",
      "                         '0.94        66\\n'\n",
      "                         '    ask_about_weight       0.96      0.90      '\n",
      "                         '0.93        60\\n'\n",
      "                         '\\n'\n",
      "                         '            accuracy                           '\n",
      "                         '0.93       954\\n'\n",
      "                         '           macro avg       0.93      0.92      '\n",
      "                         '0.93       954\\n'\n",
      "                         '        weighted avg       0.93      0.93      '\n",
      "                         '0.93       954\\n',\n",
      " 'f1': [0.9279107848409571],\n",
      " 'precision': [0.9305027232893568],\n",
      " 'recall': [0.9276729559748428]}\n"
     ]
    }
   ],
   "source": [
    "## Evaluate from other dataset\n",
    "\n",
    "path = './data/salebot/test.csv'\n",
    "\n",
    "learn = ULMFITClassificationLearner(mode='inference', model_path='./models/intent/denver.pkl')\n",
    "\n",
    "metrics = learn.evaluate(data=path, text_col='text', label_col='intent', \n",
    "                         lowercase=True, rm_emoji=True, rm_url=True, rm_special_token=True)\n",
    "\n",
    "pprint(metrics)"
   ]
  },
  {
   "cell_type": "markdown",
   "metadata": {},
   "source": [
    "#### With model ULMFIT, we provide method get uncertainty score"
   ]
  },
  {
   "cell_type": "code",
   "execution_count": 11,
   "metadata": {},
   "outputs": [
    {
     "name": "stdout",
     "output_type": "stream",
     "text": [
      "{'intent': 'ask_about_material',\n",
      " 'method': 'entropy',\n",
      " 'text': 'làm bằng chất liệu j vậy shop',\n",
      " 'uncertainty_score': 0.00023842701921239495}\n"
     ]
    }
   ],
   "source": [
    "text = \"Làm bằng chất liệu j vậy shop\"\n",
    "\n",
    "uncertainty_score = learn.get_uncertainty_score(sample=text, n_times=10)\n",
    "\n",
    "pprint(uncertainty_score)"
   ]
  },
  {
   "cell_type": "code",
   "execution_count": null,
   "metadata": {},
   "outputs": [],
   "source": []
  }
 ],
 "metadata": {
  "kernelspec": {
   "display_name": "denver",
   "language": "python",
   "name": "denver"
  },
  "language_info": {
   "codemirror_mode": {
    "name": "ipython",
    "version": 3
   },
   "file_extension": ".py",
   "mimetype": "text/x-python",
   "name": "python",
   "nbconvert_exporter": "python",
   "pygments_lexer": "ipython3",
   "version": "3.6.9"
  }
 },
 "nbformat": 4,
 "nbformat_minor": 4
}
