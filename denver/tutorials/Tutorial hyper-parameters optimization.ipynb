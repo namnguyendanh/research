{
 "cells": [
  {
   "cell_type": "code",
   "execution_count": 22,
   "metadata": {},
   "outputs": [],
   "source": [
    "import denver\n",
    "\n",
    "from pathlib import Path\n",
    "from denver.constants import *\n",
    "from denver.utils.print_utils import *\n",
    "from denver.utils.config_parser import get_config_yaml\n",
    "from denver.hiperopt.run import hiperopt as hiperopt_func\n",
    "from denver.hiperopt.visualize import hiperopt_hiplot_cli"
   ]
  },
  {
   "cell_type": "code",
   "execution_count": 16,
   "metadata": {},
   "outputs": [
    {
     "name": "stdout",
     "output_type": "stream",
     "text": [
      "2020-12-17 11:16:09,807 INFO  denver.utils.config_parser:81 - Load config-file from: ../configs/onenet_config.yaml\n"
     ]
    }
   ],
   "source": [
    "config_path = '../configs/onenet_config.yaml'\n",
    "\n",
    "config = get_config_yaml(config_file=config_path)"
   ]
  },
  {
   "cell_type": "code",
   "execution_count": 17,
   "metadata": {},
   "outputs": [],
   "source": [
    "# base_path = './'\n",
    "# base_path = config['training_params']['base_path']\n",
    "base_path = config[TRAINING_PARAMS][BASE_PATH]\n",
    "hiperopt_stats_path = Path(base_path)/'hiperopt_stats/hiperopt_statistics.json'\n",
    "output_dir = Path(base_path)/'visualize'"
   ]
  },
  {
   "cell_type": "code",
   "execution_count": 18,
   "metadata": {},
   "outputs": [
    {
     "name": "stderr",
     "output_type": "stream",
     "text": [
      "\r",
      "0it [00:00, ?it/s]"
     ]
    },
    {
     "name": "stdout",
     "output_type": "stream",
     "text": [
      "\n",
      "╒══════════════════╕\n",
      "  RUNNING HIPEROPT  \n",
      "╘══════════════════╛\n",
      "\n",
      "\n",
      "░▒▓█  Experiment: 0 \n",
      "\n",
      "➖➖➖➖➖➖➖➖➖➖ TRAINING ➖➖➖➖➖➖➖➖➖➖\n",
      "\n",
      "2020-12-17 11:16:10,338 INFO  denver.data.dataset_reader:92 - Reading instances from lines in file at: /tmp/tmplaran_r4/train.csv\n"
     ]
    },
    {
     "name": "stderr",
     "output_type": "stream",
     "text": [
      "6047it [00:00, 9508.12it/s] \n",
      "0it [00:00, ?it/s]"
     ]
    },
    {
     "name": "stdout",
     "output_type": "stream",
     "text": [
      "2020-12-17 11:16:10,975 INFO  denver.data.dataset_reader:92 - Reading instances from lines in file at: /tmp/tmplaran_r4/test.csv\n"
     ]
    },
    {
     "name": "stderr",
     "output_type": "stream",
     "text": [
      "1068it [00:00, 18529.16it/s]\n",
      "7115it [00:00, 31963.37it/s]\n",
      "22386it [00:00, 230809.31it/s]\n",
      "Epoch   0: main_score: 0.0032, loss: 3.3947 |: 100%|██████████| 95/95 [00:26<00:00,  3.60it/s]\n",
      "Epoch   1: main_score: 0.1160, loss: 1.7161 |: 100%|██████████| 95/95 [00:28<00:00,  3.29it/s]\n",
      "Epoch   2: main_score: 0.2880, loss: 1.0763 |: 100%|██████████| 95/95 [00:28<00:00,  3.34it/s]\n",
      "Epoch   3: main_score: 0.4247, loss: 0.7454 |: 100%|██████████| 95/95 [00:36<00:00,  2.61it/s]\n",
      "Epoch   4: main_score: 0.5197, loss: 0.5615 |: 100%|██████████| 95/95 [00:29<00:00,  3.19it/s]\n"
     ]
    },
    {
     "name": "stdout",
     "output_type": "stream",
     "text": [
      "\n",
      "⏰  The trained time: 0:02:31.844374\n",
      "\n",
      "2020-12-17 11:18:42,194 INFO  denver.learners.onenet_learner:677 - Reading evaluation data from /tmp/tmpslcr0erc/data.csv\n"
     ]
    },
    {
     "name": "stderr",
     "output_type": "stream",
     "text": [
      "\r",
      "0it [00:00, ?it/s]"
     ]
    },
    {
     "name": "stdout",
     "output_type": "stream",
     "text": [
      "2020-12-17 11:18:42,195 INFO  denver.data.dataset_reader:92 - Reading instances from lines in file at: /tmp/tmpslcr0erc/data.csv\n"
     ]
    },
    {
     "name": "stderr",
     "output_type": "stream",
     "text": [
      "\r",
      "1068it [00:00, 18067.23it/s]"
     ]
    },
    {
     "name": "stdout",
     "output_type": "stream",
     "text": [
      "2020-12-17 11:18:42,255 INFO  denver.learners.onenet_learner:686 - Evaluating...\n",
      "2020-12-17 11:18:42,256 INFO  denver.learners.onenet_learner:555 - Iterating over dataset\n"
     ]
    },
    {
     "name": "stderr",
     "output_type": "stream",
     "text": [
      "\n",
      "100%|██████████| 17/17 [00:01<00:00, 12.60it/s]\n",
      "0it [00:00, ?it/s]"
     ]
    },
    {
     "name": "stdout",
     "output_type": "stream",
     "text": [
      "\n",
      "░▒▓█  Experiment: 1 \n",
      "\n",
      "➖➖➖➖➖➖➖➖➖➖ TRAINING ➖➖➖➖➖➖➖➖➖➖\n",
      "\n",
      "2020-12-17 11:18:45,681 INFO  denver.data.dataset_reader:92 - Reading instances from lines in file at: /tmp/tmp5ho5tc1o/train.csv\n"
     ]
    },
    {
     "name": "stderr",
     "output_type": "stream",
     "text": [
      "6047it [00:00, 19030.09it/s]\n",
      "0it [00:00, ?it/s]"
     ]
    },
    {
     "name": "stdout",
     "output_type": "stream",
     "text": [
      "2020-12-17 11:18:46,000 INFO  denver.data.dataset_reader:92 - Reading instances from lines in file at: /tmp/tmp5ho5tc1o/test.csv\n"
     ]
    },
    {
     "name": "stderr",
     "output_type": "stream",
     "text": [
      "1068it [00:00, 21465.75it/s]\n",
      "7115it [00:00, 29475.07it/s]\n",
      "22386it [00:00, 249087.91it/s]\n",
      "Epoch   0: main_score: 0.1098, loss: 2.4037 |: 100%|██████████| 95/95 [00:48<00:00,  1.98it/s]\n",
      "Epoch   1: main_score: 0.3882, loss: 0.9199 |: 100%|██████████| 95/95 [00:46<00:00,  2.06it/s]\n",
      "Epoch   2: main_score: 0.5645, loss: 0.5783 |: 100%|██████████| 95/95 [00:50<00:00,  1.87it/s]\n",
      "Epoch   3: main_score: 0.6637, loss: 0.3970 |: 100%|██████████| 95/95 [00:50<00:00,  1.87it/s]\n",
      "Epoch   4: main_score: 0.7267, loss: 0.3049 |: 100%|██████████| 95/95 [00:51<00:00,  1.84it/s]\n"
     ]
    },
    {
     "name": "stdout",
     "output_type": "stream",
     "text": [
      "\n",
      "⏰  The trained time: 0:04:09.030234\n",
      "\n",
      "2020-12-17 11:22:54,726 INFO  denver.learners.onenet_learner:677 - Reading evaluation data from /tmp/tmpxmzofups/data.csv\n"
     ]
    },
    {
     "name": "stderr",
     "output_type": "stream",
     "text": [
      "\r",
      "0it [00:00, ?it/s]"
     ]
    },
    {
     "name": "stdout",
     "output_type": "stream",
     "text": [
      "2020-12-17 11:22:54,727 INFO  denver.data.dataset_reader:92 - Reading instances from lines in file at: /tmp/tmpxmzofups/data.csv\n"
     ]
    },
    {
     "name": "stderr",
     "output_type": "stream",
     "text": [
      "\r",
      "1068it [00:00, 17291.49it/s]"
     ]
    },
    {
     "name": "stdout",
     "output_type": "stream",
     "text": [
      "2020-12-17 11:22:54,790 INFO  denver.learners.onenet_learner:686 - Evaluating...\n",
      "2020-12-17 11:22:54,791 INFO  denver.learners.onenet_learner:555 - Iterating over dataset\n"
     ]
    },
    {
     "name": "stderr",
     "output_type": "stream",
     "text": [
      "\n",
      "100%|██████████| 17/17 [00:01<00:00, 10.89it/s]\n",
      "0it [00:00, ?it/s]"
     ]
    },
    {
     "name": "stdout",
     "output_type": "stream",
     "text": [
      "\n",
      "░▒▓█  Experiment: 2 \n",
      "\n",
      "➖➖➖➖➖➖➖➖➖➖ TRAINING ➖➖➖➖➖➖➖➖➖➖\n",
      "\n",
      "2020-12-17 11:22:58,476 INFO  denver.data.dataset_reader:92 - Reading instances from lines in file at: /tmp/tmpb9v_uitr/train.csv\n"
     ]
    },
    {
     "name": "stderr",
     "output_type": "stream",
     "text": [
      "6047it [00:00, 7855.49it/s] \n",
      "0it [00:00, ?it/s]"
     ]
    },
    {
     "name": "stdout",
     "output_type": "stream",
     "text": [
      "2020-12-17 11:22:59,247 INFO  denver.data.dataset_reader:92 - Reading instances from lines in file at: /tmp/tmpb9v_uitr/test.csv\n"
     ]
    },
    {
     "name": "stderr",
     "output_type": "stream",
     "text": [
      "1068it [00:00, 18407.18it/s]\n",
      "7115it [00:00, 27229.83it/s]\n",
      "22386it [00:00, 229180.60it/s]\n",
      "Epoch   0: main_score: 0.0737, loss: 2.6208 |: 100%|██████████| 95/95 [00:32<00:00,  2.91it/s]\n",
      "Epoch   1: main_score: 0.3904, loss: 0.9066 |: 100%|██████████| 95/95 [00:33<00:00,  2.87it/s]\n",
      "Epoch   2: main_score: 0.5994, loss: 0.4967 |: 100%|██████████| 95/95 [00:33<00:00,  2.87it/s]\n",
      "Epoch   3: main_score: 0.7156, loss: 0.3191 |: 100%|██████████| 95/95 [00:31<00:00,  2.98it/s]\n",
      "Epoch   4: main_score: 0.7912, loss: 0.2068 |: 100%|██████████| 95/95 [00:30<00:00,  3.13it/s]\n"
     ]
    },
    {
     "name": "stdout",
     "output_type": "stream",
     "text": [
      "\n",
      "⏰  The trained time: 0:02:43.215341\n",
      "\n",
      "2020-12-17 11:25:41,722 INFO  denver.learners.onenet_learner:677 - Reading evaluation data from /tmp/tmpnkqh65m3/data.csv\n"
     ]
    },
    {
     "name": "stderr",
     "output_type": "stream",
     "text": [
      "\r",
      "0it [00:00, ?it/s]"
     ]
    },
    {
     "name": "stdout",
     "output_type": "stream",
     "text": [
      "2020-12-17 11:25:41,725 INFO  denver.data.dataset_reader:92 - Reading instances from lines in file at: /tmp/tmpnkqh65m3/data.csv\n"
     ]
    },
    {
     "name": "stderr",
     "output_type": "stream",
     "text": [
      "\r",
      "1068it [00:00, 17190.43it/s]"
     ]
    },
    {
     "name": "stdout",
     "output_type": "stream",
     "text": [
      "2020-12-17 11:25:41,788 INFO  denver.learners.onenet_learner:686 - Evaluating...\n",
      "2020-12-17 11:25:41,788 INFO  denver.learners.onenet_learner:555 - Iterating over dataset\n"
     ]
    },
    {
     "name": "stderr",
     "output_type": "stream",
     "text": [
      "\n",
      "100%|██████████| 17/17 [00:01<00:00, 15.66it/s]\n"
     ]
    },
    {
     "name": "stdout",
     "output_type": "stream",
     "text": [
      "\n",
      "╒══════════════════╕\n",
      "  HIPEROPT RESULTS  \n",
      "╘══════════════════╛\n",
      "\n",
      "score: 0.793000 | parameters: {'char_embedding_dim': 66, 'dropout': 0.48323577776177895, 'hidden_size': 484, 'learning_rate': 0.004328761281083058, 'num_filters': 136}\n",
      "score: 0.783000 | parameters: {'char_embedding_dim': 63, 'dropout': 0.2, 'hidden_size': 342, 'learning_rate': 0.0018738174228603848, 'num_filters': 155}\n",
      "score: 0.610300 | parameters: {'char_embedding_dim': 70, 'dropout': 0.37557236426468255, 'hidden_size': 285, 'learning_rate': 0.0010000000000000002, 'num_filters': 227}\n",
      "\n",
      "2020-12-17 11:25:44,958 INFO  denver.hiperopt.run:120 - Hiperopt stats saved to: models/onenet/hiperopt_stats\n",
      "2020-12-17 11:25:44,958 INFO  denver.hiperopt.run:123 - Finished hiperopt. \n"
     ]
    }
   ],
   "source": [
    "results = hiperopt_func(config=config)"
   ]
  },
  {
   "cell_type": "code",
   "execution_count": 19,
   "metadata": {},
   "outputs": [],
   "source": [
    "hiperopt_hiplot_cli(hiperopt_stats_path=hiperopt_stats_path, \n",
    "                    output_dir=output_dir)"
   ]
  },
  {
   "cell_type": "code",
   "execution_count": 20,
   "metadata": {},
   "outputs": [],
   "source": [
    "## get optimal parameters\n",
    "MAX_SCORE = 0.0\n",
    "OPTIMAL_PARAMETERS = {}\n",
    "for i in range(len(results)):\n",
    "    metric_score = float(results[i]['metric_score'][0])\n",
    "    if metric_score > MAX_SCORE:\n",
    "        OPTIMAL_PARAMETERS = results[i]['parameters']\n",
    "        MAX_SCORE = metric_score"
   ]
  },
  {
   "cell_type": "code",
   "execution_count": 24,
   "metadata": {},
   "outputs": [
    {
     "name": "stdout",
     "output_type": "stream",
     "text": [
      "\n",
      "📌  0.6103\n",
      "\n",
      "\n",
      "📌  {'char_embedding_dim': 66, 'dropout': 0.48323577776177895, 'hidden_size': 484, 'learning_rate': 0.004328761281083058, 'num_filters': 136}\n",
      "\n"
     ]
    }
   ],
   "source": [
    "print_style_notice(metric_score)\n",
    "print_style_notice(OPTIMAL_PARAMETERS)"
   ]
  },
  {
   "cell_type": "code",
   "execution_count": 26,
   "metadata": {},
   "outputs": [
    {
     "name": "stdout",
     "output_type": "stream",
     "text": [
      "Path to the visualize output file: models/onenet/visualize\n"
     ]
    }
   ],
   "source": [
    "print(f\"Path to the visualize output file: {output_dir}\")"
   ]
  },
  {
   "cell_type": "code",
   "execution_count": null,
   "metadata": {},
   "outputs": [],
   "source": []
  }
 ],
 "metadata": {
  "kernelspec": {
   "display_name": "denver",
   "language": "python",
   "name": "denver"
  },
  "language_info": {
   "codemirror_mode": {
    "name": "ipython",
    "version": 3
   },
   "file_extension": ".py",
   "mimetype": "text/x-python",
   "name": "python",
   "nbconvert_exporter": "python",
   "pygments_lexer": "ipython3",
   "version": "3.6.9"
  }
 },
 "nbformat": 4,
 "nbformat_minor": 4
}
