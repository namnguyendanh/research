{
 "cells": [
  {
   "cell_type": "markdown",
   "metadata": {},
   "source": [
    "### Dataset\n",
    "Get data from: https://github.com/ngxbac/aivivn_phanloaisacthaibinhluan"
   ]
  },
  {
   "cell_type": "code",
   "execution_count": 1,
   "metadata": {},
   "outputs": [
    {
     "name": "stdout",
     "output_type": "stream",
     "text": [
      "2020-08-21 09:40:43,017 \tDENVER!\n"
     ]
    }
   ],
   "source": [
    "from denver.data.data_source import DenverDataSource\n",
    "from denver.trainers.language_model_trainer import LanguageModelTrainer\n",
    "from denver.models.ulmfit_cls import ULMFITClassifier\n",
    "from denver.trainers.trainer import ModelTrainer\n",
    "\n",
    "from denver.utils.utils import split_data"
   ]
  },
  {
   "cell_type": "code",
   "execution_count": 2,
   "metadata": {},
   "outputs": [],
   "source": [
    "import warnings\n",
    "warnings.filterwarnings(\"ignore\")"
   ]
  },
  {
   "cell_type": "code",
   "execution_count": 3,
   "metadata": {},
   "outputs": [],
   "source": [
    "import pandas as pd\n",
    "\n",
    "## Path to train data and test data\n",
    "data_path = './data/sentiment analysis/train.csv'\n",
    "\n",
    "df = pd.read_csv(data_path, encoding='utf-8')\n",
    "\n",
    "train_df, test_df = split_data(data=df, pct=0.15, text_cols='comment', label_cols='label')\n",
    "\n",
    "data_source = DenverDataSource.from_df(train_df=train_df, \n",
    "                                       test_df=test_df, \n",
    "                                       text_cols='comment', \n",
    "                                       label_cols='label', \n",
    "                                       is_normalize=True)"
   ]
  },
  {
   "cell_type": "code",
   "execution_count": 4,
   "metadata": {},
   "outputs": [
    {
     "data": {
      "text/html": [],
      "text/plain": [
       "<IPython.core.display.HTML object>"
      ]
     },
     "metadata": {},
     "output_type": "display_data"
    },
    {
     "data": {
      "text/html": [],
      "text/plain": [
       "<IPython.core.display.HTML object>"
      ]
     },
     "metadata": {},
     "output_type": "display_data"
    },
    {
     "name": "stdout",
     "output_type": "stream",
     "text": [
      "2020-08-21 09:41:04,368 \tFine-tuning...\n"
     ]
    },
    {
     "data": {
      "text/html": [
       "<table border=\"1\" class=\"dataframe\">\n",
       "  <thead>\n",
       "    <tr style=\"text-align: left;\">\n",
       "      <th>epoch</th>\n",
       "      <th>train_loss</th>\n",
       "      <th>valid_loss</th>\n",
       "      <th>accuracy</th>\n",
       "      <th>time</th>\n",
       "    </tr>\n",
       "  </thead>\n",
       "  <tbody>\n",
       "    <tr>\n",
       "      <td>0</td>\n",
       "      <td>5.239437</td>\n",
       "      <td>4.303212</td>\n",
       "      <td>0.288051</td>\n",
       "      <td>00:07</td>\n",
       "    </tr>\n",
       "    <tr>\n",
       "      <td>1</td>\n",
       "      <td>4.539239</td>\n",
       "      <td>4.122909</td>\n",
       "      <td>0.300486</td>\n",
       "      <td>00:07</td>\n",
       "    </tr>\n",
       "  </tbody>\n",
       "</table>"
      ],
      "text/plain": [
       "<IPython.core.display.HTML object>"
      ]
     },
     "metadata": {},
     "output_type": "display_data"
    },
    {
     "data": {
      "text/html": [
       "<table border=\"1\" class=\"dataframe\">\n",
       "  <thead>\n",
       "    <tr style=\"text-align: left;\">\n",
       "      <th>epoch</th>\n",
       "      <th>train_loss</th>\n",
       "      <th>valid_loss</th>\n",
       "      <th>accuracy</th>\n",
       "      <th>time</th>\n",
       "    </tr>\n",
       "  </thead>\n",
       "  <tbody>\n",
       "    <tr>\n",
       "      <td>0</td>\n",
       "      <td>4.233505</td>\n",
       "      <td>4.025914</td>\n",
       "      <td>0.309753</td>\n",
       "      <td>00:08</td>\n",
       "    </tr>\n",
       "    <tr>\n",
       "      <td>1</td>\n",
       "      <td>4.122124</td>\n",
       "      <td>3.863956</td>\n",
       "      <td>0.324370</td>\n",
       "      <td>00:08</td>\n",
       "    </tr>\n",
       "    <tr>\n",
       "      <td>2</td>\n",
       "      <td>3.990550</td>\n",
       "      <td>3.716242</td>\n",
       "      <td>0.337661</td>\n",
       "      <td>00:08</td>\n",
       "    </tr>\n",
       "    <tr>\n",
       "      <td>3</td>\n",
       "      <td>3.873825</td>\n",
       "      <td>3.591134</td>\n",
       "      <td>0.349035</td>\n",
       "      <td>00:08</td>\n",
       "    </tr>\n",
       "    <tr>\n",
       "      <td>4</td>\n",
       "      <td>3.762586</td>\n",
       "      <td>3.498703</td>\n",
       "      <td>0.358039</td>\n",
       "      <td>00:08</td>\n",
       "    </tr>\n",
       "    <tr>\n",
       "      <td>5</td>\n",
       "      <td>3.677375</td>\n",
       "      <td>3.442542</td>\n",
       "      <td>0.363436</td>\n",
       "      <td>00:08</td>\n",
       "    </tr>\n",
       "    <tr>\n",
       "      <td>6</td>\n",
       "      <td>3.607378</td>\n",
       "      <td>3.409115</td>\n",
       "      <td>0.366688</td>\n",
       "      <td>00:08</td>\n",
       "    </tr>\n",
       "    <tr>\n",
       "      <td>7</td>\n",
       "      <td>3.582685</td>\n",
       "      <td>3.404857</td>\n",
       "      <td>0.367010</td>\n",
       "      <td>00:08</td>\n",
       "    </tr>\n",
       "  </tbody>\n",
       "</table>"
      ],
      "text/plain": [
       "<IPython.core.display.HTML object>"
      ]
     },
     "metadata": {},
     "output_type": "display_data"
    }
   ],
   "source": [
    "## Fine-tune language model on Training Dataset\n",
    "\n",
    "lm_trainer = LanguageModelTrainer(pretrain='wiki')\n",
    "lm_trainer.fine_tuning_from_df(data_df=data_source.train.data, \n",
    "                               batch_size= 128, \n",
    "                               num_epochs=10, \n",
    "                               learning_rate=1e-3, \n",
    "                               moms=[0.8, 0.7], \n",
    "                               drop_mult=0.5)"
   ]
  },
  {
   "cell_type": "code",
   "execution_count": 5,
   "metadata": {},
   "outputs": [
    {
     "data": {
      "text/html": [],
      "text/plain": [
       "<IPython.core.display.HTML object>"
      ]
     },
     "metadata": {},
     "output_type": "display_data"
    },
    {
     "data": {
      "text/html": [],
      "text/plain": [
       "<IPython.core.display.HTML object>"
      ]
     },
     "metadata": {},
     "output_type": "display_data"
    },
    {
     "data": {
      "text/html": [],
      "text/plain": [
       "<IPython.core.display.HTML object>"
      ]
     },
     "metadata": {},
     "output_type": "display_data"
    },
    {
     "data": {
      "text/html": [],
      "text/plain": [
       "<IPython.core.display.HTML object>"
      ]
     },
     "metadata": {},
     "output_type": "display_data"
    },
    {
     "name": "stdout",
     "output_type": "stream",
     "text": [
      "2020-08-21 09:43:04,752 \tTraining...\n"
     ]
    },
    {
     "data": {
      "text/html": [
       "<table border=\"1\" class=\"dataframe\">\n",
       "  <thead>\n",
       "    <tr style=\"text-align: left;\">\n",
       "      <th>epoch</th>\n",
       "      <th>train_loss</th>\n",
       "      <th>valid_loss</th>\n",
       "      <th>accuracy</th>\n",
       "      <th>f_beta</th>\n",
       "      <th>precision</th>\n",
       "      <th>recall</th>\n",
       "      <th>time</th>\n",
       "    </tr>\n",
       "  </thead>\n",
       "  <tbody>\n",
       "    <tr>\n",
       "      <td>0</td>\n",
       "      <td>0.368378</td>\n",
       "      <td>0.348543</td>\n",
       "      <td>0.865033</td>\n",
       "      <td>0.865953</td>\n",
       "      <td>0.877758</td>\n",
       "      <td>0.865033</td>\n",
       "      <td>00:07</td>\n",
       "    </tr>\n",
       "    <tr>\n",
       "      <td>1</td>\n",
       "      <td>0.354093</td>\n",
       "      <td>0.280020</td>\n",
       "      <td>0.888076</td>\n",
       "      <td>0.888482</td>\n",
       "      <td>0.890063</td>\n",
       "      <td>0.888076</td>\n",
       "      <td>00:07</td>\n",
       "    </tr>\n",
       "    <tr>\n",
       "      <td>2</td>\n",
       "      <td>0.302748</td>\n",
       "      <td>0.276439</td>\n",
       "      <td>0.886613</td>\n",
       "      <td>0.887247</td>\n",
       "      <td>0.891776</td>\n",
       "      <td>0.886613</td>\n",
       "      <td>00:07</td>\n",
       "    </tr>\n",
       "  </tbody>\n",
       "</table>"
      ],
      "text/plain": [
       "<IPython.core.display.HTML object>"
      ]
     },
     "metadata": {},
     "output_type": "display_data"
    },
    {
     "data": {
      "text/html": [
       "<table border=\"1\" class=\"dataframe\">\n",
       "  <thead>\n",
       "    <tr style=\"text-align: left;\">\n",
       "      <th>epoch</th>\n",
       "      <th>train_loss</th>\n",
       "      <th>valid_loss</th>\n",
       "      <th>accuracy</th>\n",
       "      <th>f_beta</th>\n",
       "      <th>precision</th>\n",
       "      <th>recall</th>\n",
       "      <th>time</th>\n",
       "    </tr>\n",
       "  </thead>\n",
       "  <tbody>\n",
       "    <tr>\n",
       "      <td>0</td>\n",
       "      <td>0.325000</td>\n",
       "      <td>0.306652</td>\n",
       "      <td>0.872348</td>\n",
       "      <td>0.872477</td>\n",
       "      <td>0.872675</td>\n",
       "      <td>0.872348</td>\n",
       "      <td>00:07</td>\n",
       "    </tr>\n",
       "    <tr>\n",
       "      <td>1</td>\n",
       "      <td>0.332467</td>\n",
       "      <td>0.286793</td>\n",
       "      <td>0.875274</td>\n",
       "      <td>0.874352</td>\n",
       "      <td>0.875733</td>\n",
       "      <td>0.875274</td>\n",
       "      <td>00:07</td>\n",
       "    </tr>\n",
       "    <tr>\n",
       "      <td>2</td>\n",
       "      <td>0.309183</td>\n",
       "      <td>0.276581</td>\n",
       "      <td>0.889173</td>\n",
       "      <td>0.889842</td>\n",
       "      <td>0.895656</td>\n",
       "      <td>0.889173</td>\n",
       "      <td>00:07</td>\n",
       "    </tr>\n",
       "  </tbody>\n",
       "</table>"
      ],
      "text/plain": [
       "<IPython.core.display.HTML object>"
      ]
     },
     "metadata": {},
     "output_type": "display_data"
    },
    {
     "data": {
      "text/html": [
       "<table border=\"1\" class=\"dataframe\">\n",
       "  <thead>\n",
       "    <tr style=\"text-align: left;\">\n",
       "      <th>epoch</th>\n",
       "      <th>train_loss</th>\n",
       "      <th>valid_loss</th>\n",
       "      <th>accuracy</th>\n",
       "      <th>f_beta</th>\n",
       "      <th>precision</th>\n",
       "      <th>recall</th>\n",
       "      <th>time</th>\n",
       "    </tr>\n",
       "  </thead>\n",
       "  <tbody>\n",
       "    <tr>\n",
       "      <td>0</td>\n",
       "      <td>0.317142</td>\n",
       "      <td>0.256787</td>\n",
       "      <td>0.897952</td>\n",
       "      <td>0.898335</td>\n",
       "      <td>0.900009</td>\n",
       "      <td>0.897952</td>\n",
       "      <td>00:06</td>\n",
       "    </tr>\n",
       "  </tbody>\n",
       "</table>"
      ],
      "text/plain": [
       "<IPython.core.display.HTML object>"
      ]
     },
     "metadata": {},
     "output_type": "display_data"
    },
    {
     "data": {
      "text/html": [
       "<table border=\"1\" class=\"dataframe\">\n",
       "  <thead>\n",
       "    <tr style=\"text-align: left;\">\n",
       "      <th>epoch</th>\n",
       "      <th>train_loss</th>\n",
       "      <th>valid_loss</th>\n",
       "      <th>accuracy</th>\n",
       "      <th>f_beta</th>\n",
       "      <th>precision</th>\n",
       "      <th>recall</th>\n",
       "      <th>time</th>\n",
       "    </tr>\n",
       "  </thead>\n",
       "  <tbody>\n",
       "    <tr>\n",
       "      <td>0</td>\n",
       "      <td>0.279005</td>\n",
       "      <td>0.243287</td>\n",
       "      <td>0.901975</td>\n",
       "      <td>0.902363</td>\n",
       "      <td>0.904231</td>\n",
       "      <td>0.901975</td>\n",
       "      <td>00:07</td>\n",
       "    </tr>\n",
       "  </tbody>\n",
       "</table>"
      ],
      "text/plain": [
       "<IPython.core.display.HTML object>"
      ]
     },
     "metadata": {},
     "output_type": "display_data"
    },
    {
     "data": {
      "text/html": [
       "<table border=\"1\" class=\"dataframe\">\n",
       "  <thead>\n",
       "    <tr style=\"text-align: left;\">\n",
       "      <th>epoch</th>\n",
       "      <th>train_loss</th>\n",
       "      <th>valid_loss</th>\n",
       "      <th>accuracy</th>\n",
       "      <th>f_beta</th>\n",
       "      <th>precision</th>\n",
       "      <th>recall</th>\n",
       "      <th>time</th>\n",
       "    </tr>\n",
       "  </thead>\n",
       "  <tbody>\n",
       "    <tr>\n",
       "      <td>0</td>\n",
       "      <td>0.216033</td>\n",
       "      <td>0.246415</td>\n",
       "      <td>0.901609</td>\n",
       "      <td>0.901995</td>\n",
       "      <td>0.903822</td>\n",
       "      <td>0.901609</td>\n",
       "      <td>00:07</td>\n",
       "    </tr>\n",
       "    <tr>\n",
       "      <td>1</td>\n",
       "      <td>0.201051</td>\n",
       "      <td>0.251228</td>\n",
       "      <td>0.901609</td>\n",
       "      <td>0.901937</td>\n",
       "      <td>0.903232</td>\n",
       "      <td>0.901609</td>\n",
       "      <td>00:08</td>\n",
       "    </tr>\n",
       "    <tr>\n",
       "      <td>2</td>\n",
       "      <td>0.175887</td>\n",
       "      <td>0.283814</td>\n",
       "      <td>0.900878</td>\n",
       "      <td>0.901304</td>\n",
       "      <td>0.903567</td>\n",
       "      <td>0.900878</td>\n",
       "      <td>00:07</td>\n",
       "    </tr>\n",
       "    <tr>\n",
       "      <td>3</td>\n",
       "      <td>0.136547</td>\n",
       "      <td>0.311552</td>\n",
       "      <td>0.895026</td>\n",
       "      <td>0.895347</td>\n",
       "      <td>0.896454</td>\n",
       "      <td>0.895026</td>\n",
       "      <td>00:08</td>\n",
       "    </tr>\n",
       "    <tr>\n",
       "      <td>4</td>\n",
       "      <td>0.105959</td>\n",
       "      <td>0.332744</td>\n",
       "      <td>0.893197</td>\n",
       "      <td>0.893529</td>\n",
       "      <td>0.894673</td>\n",
       "      <td>0.893197</td>\n",
       "      <td>00:07</td>\n",
       "    </tr>\n",
       "    <tr>\n",
       "      <td>5</td>\n",
       "      <td>0.098058</td>\n",
       "      <td>0.332971</td>\n",
       "      <td>0.894660</td>\n",
       "      <td>0.894997</td>\n",
       "      <td>0.896204</td>\n",
       "      <td>0.894660</td>\n",
       "      <td>00:07</td>\n",
       "    </tr>\n",
       "  </tbody>\n",
       "</table>"
      ],
      "text/plain": [
       "<IPython.core.display.HTML object>"
      ]
     },
     "metadata": {},
     "output_type": "display_data"
    },
    {
     "name": "stdout",
     "output_type": "stream",
     "text": [
      "2020-08-21 09:45:00,130 \tSave the model !\n",
      "2020-08-21 09:45:08,121 \tPath to saved model: /workspace/nlp_training/phucpx/tutorial/denver/models/denver-cls_sentiment.pkl\n"
     ]
    },
    {
     "data": {
      "text/html": [],
      "text/plain": [
       "<IPython.core.display.HTML object>"
      ]
     },
     "metadata": {},
     "output_type": "display_data"
    },
    {
     "name": "stdout",
     "output_type": "stream",
     "text": [
      "2020-08-21 09:45:08,723 \tEVALUATE VALID:\n",
      "+----------------------+----------------------+----------------------+----------------------+\n",
      "| Accuracy             |  F1-score            |  Precission          |  Recall              |\n",
      "|----------------------+----------------------+----------------------+----------------------|\n",
      "| 0.8942940831184387   | 0.8946366310119629   | 0.8958784341812134   | 0.8942941427230835   |\n",
      "\n",
      "\n"
     ]
    }
   ],
   "source": [
    "model_dir = 'models/'\n",
    "save_file = 'denver-cls_sentiment.pkl'\n",
    "\n",
    "model = ULMFITClassifier(mode='training',\n",
    "                         data_source=data_source)\n",
    "\n",
    "trainer = ModelTrainer(model=model, types='class')\n",
    "trainer.train(model_dir=model_dir, \n",
    "              save_best_model=save_file, \n",
    "              learning_rate=2e-2, \n",
    "              batch_size=128, \n",
    "              num_epochs=14)"
   ]
  },
  {
   "cell_type": "markdown",
   "metadata": {},
   "source": [
    "### Test\n",
    "\n",
    "- 0 - Tích cực\n",
    "- 1 - Tiêu cực"
   ]
  },
  {
   "cell_type": "code",
   "execution_count": 9,
   "metadata": {},
   "outputs": [
    {
     "name": "stdout",
     "output_type": "stream",
     "text": [
      "{'confidence': [{'confidence': 0.03254649043083191, 'name': 0},\n",
      "                {'confidence': 0.9674534797668457, 'name': 1}],\n",
      " 'intent': {'confidence': 0.9674534797668457, 'name': 1}}\n",
      "{'intent': 1,\n",
      " 'method': 'entropy',\n",
      " 'text': 'tệ sản phẩm đứt chỉ tùm lum rách quá trời chỗ hàng lũng shop phục vụ '\n",
      "         'quá tệ lần cuối mua shop ',\n",
      " 'uncertainty_score': 0.33033305406570435}\n"
     ]
    }
   ],
   "source": [
    "from pprint import pprint\n",
    "\n",
    "text = 'Tệ😡 Sản phẩm đứt chỉ tùm lum😡 Rách quá trời chỗ  hàng lũng😡 Shop phục vụ quá tệ😡 Lần cuối mua shop😡'\n",
    "\n",
    "pred = model.process(sample=text)\n",
    "pprint(pred)\n",
    "\n",
    "## get uncertainty core\n",
    "\n",
    "uncertainty_score = model.get_uncertainty_score(sample=text, n_times=10)\n",
    "pprint(uncertainty_score)"
   ]
  },
  {
   "cell_type": "markdown",
   "metadata": {},
   "source": [
    "### Get predictions for TEST SET"
   ]
  },
  {
   "cell_type": "code",
   "execution_count": 10,
   "metadata": {},
   "outputs": [
    {
     "name": "stdout",
     "output_type": "stream",
     "text": [
      "2020-08-21 09:45:30,370 \tGet-prediction...\n"
     ]
    },
    {
     "data": {
      "text/html": [],
      "text/plain": [
       "<IPython.core.display.HTML object>"
      ]
     },
     "metadata": {},
     "output_type": "display_data"
    },
    {
     "data": {
      "text/html": [],
      "text/plain": [
       "<IPython.core.display.HTML object>"
      ]
     },
     "metadata": {},
     "output_type": "display_data"
    }
   ],
   "source": [
    "data_df = model.predict_batch_on_df(data='./data/sentiment analysis/test.csv', \n",
    "                                    text_cols='comment', \n",
    "                                    is_normalize=True)\n",
    "\n",
    "data_df.to_csv('test_preds.csv', index=False, encoding='utf-8')"
   ]
  },
  {
   "cell_type": "code",
   "execution_count": null,
   "metadata": {},
   "outputs": [],
   "source": []
  }
 ],
 "metadata": {
  "kernelspec": {
   "display_name": "phucpx",
   "language": "python",
   "name": "phucpx"
  },
  "language_info": {
   "codemirror_mode": {
    "name": "ipython",
    "version": 3
   },
   "file_extension": ".py",
   "mimetype": "text/x-python",
   "name": "python",
   "nbconvert_exporter": "python",
   "pygments_lexer": "ipython3",
   "version": "3.6.9"
  }
 },
 "nbformat": 4,
 "nbformat_minor": 4
}
