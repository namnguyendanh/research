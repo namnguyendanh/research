{
 "cells": [
  {
   "cell_type": "code",
   "execution_count": 1,
   "metadata": {},
   "outputs": [],
   "source": [
    "import denver"
   ]
  },
  {
   "cell_type": "code",
   "execution_count": 5,
   "metadata": {},
   "outputs": [],
   "source": [
    "from denver.data import DenverDataSource\n",
    "\n",
    "train_path = '../data/cometv3/train.csv'\n",
    "test_path = '../data/cometv3/test.csv'\n",
    "\n",
    "data_source = DenverDataSource.from_csv(train_path=train_path, \n",
    "                                        test_path=test_path, \n",
    "                                        text_col='text',\n",
    "                                        intent_col='intent', \n",
    "                                        tag_col='tags', \n",
    "                                        lowercase=True)"
   ]
  },
  {
   "cell_type": "code",
   "execution_count": 6,
   "metadata": {},
   "outputs": [],
   "source": [
    "from denver.learners import OnenetLearner\n",
    "\n",
    "learn = OnenetLearner(mode='training', \n",
    "                      data_source=data_source, \n",
    "                      rnn_type='lstm', \n",
    "                      dropout=0.5,\n",
    "                      bidirectional=True, \n",
    "                      hidden_size=200, \n",
    "                      word_embedding_dim=50, \n",
    "                      word_pretrained_embedding='vi-glove-50d', \n",
    "                      char_encoder_type='cnn', \n",
    "                      char_embedding_dim=3, \n",
    "                      num_filters=128, \n",
    "                      ngram_filter_sizes=[3], \n",
    "                      conv_layer_activation='relu')"
   ]
  },
  {
   "cell_type": "code",
   "execution_count": 7,
   "metadata": {},
   "outputs": [
    {
     "name": "stderr",
     "output_type": "stream",
     "text": [
      "\r",
      "0it [00:00, ?it/s]"
     ]
    },
    {
     "name": "stdout",
     "output_type": "stream",
     "text": [
      "\n",
      "➖➖➖➖➖➖➖➖➖➖ TRAINING ➖➖➖➖➖➖➖➖➖➖\n",
      "\n",
      "2020-12-17 10:51:16,536 INFO  denver.data.dataset_reader:92 - Reading instances from lines in file at: /tmp/tmpxmzb9ha2/train.csv\n"
     ]
    },
    {
     "name": "stderr",
     "output_type": "stream",
     "text": [
      "6047it [00:00, 14938.61it/s]\n",
      "0it [00:00, ?it/s]"
     ]
    },
    {
     "name": "stdout",
     "output_type": "stream",
     "text": [
      "2020-12-17 10:51:16,941 INFO  denver.data.dataset_reader:92 - Reading instances from lines in file at: /tmp/tmpxmzb9ha2/test.csv\n"
     ]
    },
    {
     "name": "stderr",
     "output_type": "stream",
     "text": [
      "1068it [00:00, 6326.45it/s]\n",
      "7115it [00:00, 26097.78it/s]\n",
      "22386it [00:00, 229908.45it/s]\n",
      "Epoch   0: main_score: 0.0000, loss: 3.7564 |: 100%|██████████| 95/95 [00:15<00:00,  6.02it/s]\n",
      "Epoch   1: main_score: 0.0231, loss: 2.3874 |: 100%|██████████| 95/95 [00:15<00:00,  5.94it/s]\n"
     ]
    },
    {
     "name": "stdout",
     "output_type": "stream",
     "text": [
      "2020-12-17 10:51:50,123 INFO  denver.learners.onenet_learner:295 - Path to the saved model: models/onenet/denver-onenet.tar.gz\n",
      "\n",
      "⏰  The trained time: 0:00:33.604110\n",
      "\n"
     ]
    }
   ],
   "source": [
    "from denver.trainers.trainer import ModelTrainer\n",
    "\n",
    "trainer = ModelTrainer(learn=learn)\n",
    "trainer.train(base_path='./models/onenet/', \n",
    "              model_file='denver-onenet.tar.gz', \n",
    "              learning_rate=0.001, \n",
    "              batch_size=64, \n",
    "              num_epochs=200)"
   ]
  },
  {
   "cell_type": "code",
   "execution_count": 9,
   "metadata": {},
   "outputs": [
    {
     "name": "stdout",
     "output_type": "stream",
     "text": [
      "2020-12-17 10:52:18,425 INFO  denver.learners.onenet_learner:677 - Reading evaluation data from /tmp/tmpbcpjep33/data.csv\n"
     ]
    },
    {
     "name": "stderr",
     "output_type": "stream",
     "text": [
      "\r",
      "0it [00:00, ?it/s]"
     ]
    },
    {
     "name": "stdout",
     "output_type": "stream",
     "text": [
      "2020-12-17 10:52:18,426 INFO  denver.data.dataset_reader:92 - Reading instances from lines in file at: /tmp/tmpbcpjep33/data.csv\n"
     ]
    },
    {
     "name": "stderr",
     "output_type": "stream",
     "text": [
      "\r",
      "1068it [00:00, 16299.23it/s]"
     ]
    },
    {
     "name": "stdout",
     "output_type": "stream",
     "text": [
      "2020-12-17 10:52:18,492 INFO  denver.learners.onenet_learner:686 - Evaluating...\n",
      "2020-12-17 10:52:18,493 INFO  denver.learners.onenet_learner:555 - Iterating over dataset\n"
     ]
    },
    {
     "name": "stderr",
     "output_type": "stream",
     "text": [
      "\n",
      "100%|██████████| 17/17 [00:00<00:00, 30.52it/s]\n"
     ]
    }
   ],
   "source": [
    "## evaluate \n",
    "\n",
    "learn = OnenetLearner(mode='inference', model_path='./models/onenet/denver-onenet.tar.gz')\n",
    "\n",
    "data_path = '../data/cometv3/test.csv'\n",
    "\n",
    "metrics = learn.evaluate(data=data_path, \n",
    "                         text_col='text', \n",
    "                         intent_col='intent', \n",
    "                         tag_col='tags',\n",
    "                         lowercase=True)"
   ]
  },
  {
   "cell_type": "code",
   "execution_count": 11,
   "metadata": {},
   "outputs": [
    {
     "name": "stdout",
     "output_type": "stream",
     "text": [
      "+--------+------------+\n",
      "|  loss  | main_score |\n",
      "+--------+------------+\n",
      "| 1.8119 |   0.0756   |\n",
      "+--------+------------+\n",
      "Intent results: \n",
      "+----------+----------+-----------+--------+\n",
      "| accucary | f1-score | precision | recall |\n",
      "+----------+----------+-----------+--------+\n",
      "|  0.6854  |  0.6464  |  0.6684   | 0.6854 |\n",
      "+----------+----------+-----------+--------+\n",
      "Intent detailed results: \n",
      "                    precision    recall  f1-score   support\n",
      "\n",
      "             agree       0.62      0.70      0.65        23\n",
      "       ask_confirm       0.62      0.94      0.75       316\n",
      "        ask_is_bot       1.00      0.43      0.61        23\n",
      "              deny       0.98      0.96      0.97       179\n",
      "             greet       0.89      0.70      0.78        23\n",
      "            inform       0.70      0.57      0.63       223\n",
      "request#age_of_use       0.38      0.13      0.19        23\n",
      "     request#brand       0.58      0.26      0.36        27\n",
      "     request#color       1.00      0.26      0.42        19\n",
      " request#guarantee       0.38      0.77      0.51        22\n",
      "     request#image       0.48      0.61      0.54        23\n",
      "      request#link       0.00      0.00      0.00        13\n",
      "  request#material       0.46      0.73      0.56        22\n",
      "    request#origin       0.33      0.05      0.08        21\n",
      "     request#price       0.73      0.30      0.42        27\n",
      " request#promotion       0.00      0.00      0.00        21\n",
      "      request#size       0.50      0.09      0.15        22\n",
      "    request#weight       0.00      0.00      0.00        18\n",
      "            thanks       0.73      0.96      0.83        23\n",
      "\n",
      "          accuracy                           0.69      1068\n",
      "         macro avg       0.55      0.44      0.44      1068\n",
      "      weighted avg       0.67      0.69      0.65      1068\n",
      "\n",
      "Tags results: \n",
      "+----------+-----------+--------+\n",
      "| f1-score | precision | recall |\n",
      "+----------+-----------+--------+\n",
      "|  0.098   |  0.2016   | 0.0647 |\n",
      "+----------+-----------+--------+\n",
      "Tags detailed results: \n",
      "                         precision    recall  f1-score   support\n",
      "\n",
      "     inform#object_type       0.21      0.03      0.05       348\n",
      "             deny#color       0.50      0.21      0.29        24\n",
      "           inform#brand       0.00      0.00      0.00        84\n",
      "       inform#guarantee       0.22      0.37      0.28        27\n",
      "           inform#price       0.00      0.00      0.00        31\n",
      "             deny#brand       0.00      0.00      0.00        24\n",
      "            deny#origin       0.00      0.00      0.00        20\n",
      "            inform#size       0.00      0.00      0.00        35\n",
      "  ask_confirm#promotion       0.00      0.00      0.00        17\n",
      "      ask_confirm#price       0.50      0.14      0.22        28\n",
      "      ask_confirm#color       0.15      0.27      0.19        22\n",
      "     ask_confirm#weight       0.00      0.00      0.00        35\n",
      "             deny#price       0.32      0.91      0.48        32\n",
      "        inform#material       0.00      0.00      0.00        31\n",
      "   ask_confirm#material       0.00      0.00      0.00        26\n",
      "      inform#age_of_use       0.00      0.00      0.00        30\n",
      "          deny#material       0.32      0.25      0.28        28\n",
      "       ask_confirm#size       0.00      0.00      0.00        29\n",
      "      ask_confirm#brand       0.00      0.00      0.00        31\n",
      "ask_confirm#object_type       0.00      0.00      0.00        32\n",
      "  ask_confirm#guarantee       0.04      0.12      0.06        32\n",
      "     ask_confirm#origin       0.00      0.00      0.00        30\n",
      "       deny#object_type       0.00      0.00      0.00        30\n",
      "          inform#origin       0.00      0.00      0.00        31\n",
      "              deny#size       0.00      0.00      0.00        22\n",
      "          inform#weight       0.00      0.00      0.00        15\n",
      " ask_confirm#age_of_use       0.00      0.00      0.00        31\n",
      "           inform#color       0.00      0.00      0.00        34\n",
      "\n",
      "              micro avg       0.20      0.06      0.10      1159\n",
      "              macro avg       0.11      0.06      0.06      1159\n",
      "\n"
     ]
    }
   ],
   "source": [
    "from denver.utils.print_utils import view_table\n",
    "\n",
    "view_table(metrics)"
   ]
  },
  {
   "cell_type": "code",
   "execution_count": 12,
   "metadata": {},
   "outputs": [
    {
     "name": "stdout",
     "output_type": "stream",
     "text": [
      "{'intent': 'ask_confirm',\n",
      " 'intent_probs': array([8.472486e-01, 1.390546e-01, 2.941240e-03, 8.740714e-04, 4.832490e-04, 7.965628e-06, 3.421558e-04, 1.891766e-03,\n",
      "       2.839373e-05, 7.605435e-05, 2.445794e-04, 3.626556e-04, 1.484683e-04, 3.453332e-04, 7.620518e-04, 2.558392e-03,\n",
      "       1.409377e-03, 1.057163e-03, 1.639659e-04], dtype=float32),\n",
      " 'mask': array([1, 1, 1, 1, 1, 1, 1]),\n",
      " 'nlu': {'ask_confirm': []},\n",
      " 'span_tags': [],\n",
      " 'tag_logits': array([[ 5.203199,  3.418806,  1.580193,  0.336525, ..., -5.362263, -4.325233, -6.058815, -5.410845],\n",
      "       [ 3.871637,  1.896619,  1.413062,  0.336331, ..., -5.042706, -4.29088 , -5.715288, -5.234156],\n",
      "       [ 2.919298,  0.356529,  0.793495,  0.193774, ..., -4.422326, -4.09605 , -5.016703, -4.827662],\n",
      "       [ 1.816658, -1.193515, -0.293841,  0.048384, ..., -3.35841 , -3.424273, -3.803444, -3.96379 ],\n",
      "       [ 2.115446, -2.421565, -1.239655, -0.452128, ..., -3.155025, -3.254362, -3.146738, -3.738115],\n",
      "       [ 7.332287, -2.590415, -2.130936, -1.839686, ..., -5.271626, -5.24455 , -4.27482 , -5.93807 ],\n",
      "       [ 8.3854  , -2.33034 , -2.120134, -2.010195, ..., -5.389953, -5.190983, -3.899499, -6.00431 ]], dtype=float32),\n",
      " 'tags': ['O',\n",
      "          'O',\n",
      "          'O',\n",
      "          'I-ask_confirm#color',\n",
      "          'I-ask_confirm#color',\n",
      "          'O',\n",
      "          'O'],\n",
      " 'words': ['xe', 'day', 'con', 'mau', 'vàng', 'k', 'sh']}\n"
     ]
    }
   ],
   "source": [
    "from pprint import pprint\n",
    "\n",
    "## inference a sample\n",
    "\n",
    "prediction = learn.predict(sample=\"xe day con mau vàng k sh\", lowercase=True)\n",
    "pprint(prediction)"
   ]
  },
  {
   "cell_type": "code",
   "execution_count": 13,
   "metadata": {},
   "outputs": [
    {
     "name": "stdout",
     "output_type": "stream",
     "text": [
      "{'entities': [],\n",
      " 'intent': {'confidence': 0.8472485542297363, 'name': 'ask_confirm'},\n",
      " 'text': 'xe day con mau vàng k sh'}\n"
     ]
    }
   ],
   "source": [
    "from pprint import pprint\n",
    "\n",
    "## inference a sample\n",
    "\n",
    "output = learn.process(sample=\"xe day con mau vàng k sh\", lowercase=True)\n",
    "pprint(output)"
   ]
  },
  {
   "cell_type": "code",
   "execution_count": 14,
   "metadata": {},
   "outputs": [
    {
     "name": "stdout",
     "output_type": "stream",
     "text": [
      "2020-12-17 10:52:56,791 INFO  denver.learners.onenet_learner:770 - Get-prediction...\n"
     ]
    },
    {
     "name": "stderr",
     "output_type": "stream",
     "text": [
      "100%|██████████| 1068/1068 [00:05<00:00, 191.58it/s]\n"
     ]
    },
    {
     "data": {
      "text/html": [
       "<div>\n",
       "<style scoped>\n",
       "    .dataframe tbody tr th:only-of-type {\n",
       "        vertical-align: middle;\n",
       "    }\n",
       "\n",
       "    .dataframe tbody tr th {\n",
       "        vertical-align: top;\n",
       "    }\n",
       "\n",
       "    .dataframe thead th {\n",
       "        text-align: right;\n",
       "    }\n",
       "</style>\n",
       "<table border=\"1\" class=\"dataframe\">\n",
       "  <thead>\n",
       "    <tr style=\"text-align: right;\">\n",
       "      <th></th>\n",
       "      <th>text</th>\n",
       "      <th>intent_pred</th>\n",
       "      <th>tag_pred</th>\n",
       "    </tr>\n",
       "  </thead>\n",
       "  <tbody>\n",
       "    <tr>\n",
       "      <th>0</th>\n",
       "      <td>mẫu này thì là của hq phải ko ạ</td>\n",
       "      <td>ask_confirm</td>\n",
       "      <td>O O O O O O O O O</td>\n",
       "    </tr>\n",
       "    <tr>\n",
       "      <th>1</th>\n",
       "      <td>nôi này cho bé đến 2 tuổi không</td>\n",
       "      <td>inform</td>\n",
       "      <td>O O O O O O O O</td>\n",
       "    </tr>\n",
       "    <tr>\n",
       "      <th>2</th>\n",
       "      <td>có màu xanh lá k</td>\n",
       "      <td>ask_confirm</td>\n",
       "      <td>O B-ask_confirm#color I-ask_confirm#color I-as...</td>\n",
       "    </tr>\n",
       "    <tr>\n",
       "      <th>3</th>\n",
       "      <td>bên bạn có cọ bình sữa ko</td>\n",
       "      <td>inform</td>\n",
       "      <td>O O O O O O O</td>\n",
       "    </tr>\n",
       "    <tr>\n",
       "      <th>4</th>\n",
       "      <td>bé nhà mình 5.5 tháng chưa biết ngồi thì có dù...</td>\n",
       "      <td>ask_confirm</td>\n",
       "      <td>O O O O O O O O O O O O O O</td>\n",
       "    </tr>\n",
       "  </tbody>\n",
       "</table>\n",
       "</div>"
      ],
      "text/plain": [
       "                                                text  intent_pred  \\\n",
       "0                    mẫu này thì là của hq phải ko ạ  ask_confirm   \n",
       "1                    nôi này cho bé đến 2 tuổi không       inform   \n",
       "2                                   có màu xanh lá k  ask_confirm   \n",
       "3                          bên bạn có cọ bình sữa ko       inform   \n",
       "4  bé nhà mình 5.5 tháng chưa biết ngồi thì có dù...  ask_confirm   \n",
       "\n",
       "                                            tag_pred  \n",
       "0                                  O O O O O O O O O  \n",
       "1                                    O O O O O O O O  \n",
       "2  O B-ask_confirm#color I-ask_confirm#color I-as...  \n",
       "3                                      O O O O O O O  \n",
       "4                        O O O O O O O O O O O O O O  "
      ]
     },
     "execution_count": 14,
     "metadata": {},
     "output_type": "execute_result"
    }
   ],
   "source": [
    "## Get predictions on a Dataframe or path to .csv\n",
    "\n",
    "data_path = '../data/cometv3/test.csv'\n",
    "\n",
    "data_df = learn.predict_on_df(data=data_path, \n",
    "                              text_cols='text', \n",
    "                              intent_cols=None, \n",
    "                              tag_cols=None, \n",
    "                              lowercase=True)\n",
    "\n",
    "data_df.head()"
   ]
  },
  {
   "cell_type": "code",
   "execution_count": null,
   "metadata": {},
   "outputs": [],
   "source": []
  }
 ],
 "metadata": {
  "kernelspec": {
   "display_name": "denver",
   "language": "python",
   "name": "denver"
  },
  "language_info": {
   "codemirror_mode": {
    "name": "ipython",
    "version": 3
   },
   "file_extension": ".py",
   "mimetype": "text/x-python",
   "name": "python",
   "nbconvert_exporter": "python",
   "pygments_lexer": "ipython3",
   "version": "3.6.9"
  }
 },
 "nbformat": 4,
 "nbformat_minor": 4
}
