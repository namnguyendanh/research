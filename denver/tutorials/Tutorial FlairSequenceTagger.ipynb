{
 "cells": [
  {
   "cell_type": "code",
   "execution_count": 1,
   "metadata": {},
   "outputs": [],
   "source": [
    "from denver.data import DenverDataSource\n",
    "from denver.embeddings import Embeddings"
   ]
  },
  {
   "cell_type": "code",
   "execution_count": 2,
   "metadata": {},
   "outputs": [],
   "source": [
    "embeddings = Embeddings(embedding_types='pooled_flair_embeddings',  \n",
    "                        pretrain='multi-forward')\n",
    "\n",
    "embedding = embeddings.embed()"
   ]
  },
  {
   "cell_type": "markdown",
   "metadata": {},
   "source": [
    "**NOTE:**\n",
    "\n",
    "You can also fine-tuning language model as embedding from Other Corpus. The structure of a Folder Data as followings:\n",
    "\n",
    "```js\n",
    "corpus/\n",
    "    train/\n",
    "        train_split_1\n",
    "        train_split_2\n",
    "        ...\n",
    "        train_split_X\n",
    "\n",
    "    test.txt\n",
    "    valid.txt\n",
    "```\n",
    "Usage code:\n",
    "```py\n",
    "embedding = embeddings.fine_tuning(corpus_dir='./data/corpus', \n",
    "                                   model_dir='./models', \n",
    "                                   batch_size=32, \n",
    "                                   max_epoch=1)\n",
    "```"
   ]
  },
  {
   "cell_type": "code",
   "execution_count": 4,
   "metadata": {},
   "outputs": [],
   "source": [
    "## Path to train data and test data\n",
    "train_path = './data/cometv3/train.csv'\n",
    "test_path = './data/cometv3/test.csv'\n",
    "\n",
    "data_source = DenverDataSource.from_csv(train_path=train_path, \n",
    "                                        test_path=test_path, \n",
    "                                        text_col='text', \n",
    "                                        label_col='tag', \n",
    "                                        lowercase=True)"
   ]
  },
  {
   "cell_type": "code",
   "execution_count": 5,
   "metadata": {},
   "outputs": [
    {
     "name": "stdout",
     "output_type": "stream",
     "text": [
      "2020-12-17 03:35:23,916 Reading data from /tmp/tmpq789_l31\n",
      "2020-12-17 03:35:23,916 Train: /tmp/tmpq789_l31/train.txt\n",
      "2020-12-17 03:35:23,917 Dev: None\n",
      "2020-12-17 03:35:23,917 Test: /tmp/tmpq789_l31/test.txt\n"
     ]
    }
   ],
   "source": [
    "from denver.learners import FlairSequenceTaggerLearner\n",
    "\n",
    "learn = FlairSequenceTaggerLearner(mode='training', \n",
    "                                   data_source=data_source, \n",
    "                                   tag_type='ner', \n",
    "                                   embeddings=embedding,\n",
    "                                   hidden_size=1024,\n",
    "                                   rnn_layers=1,\n",
    "                                   dropout=0.0, \n",
    "                                   word_dropout=0.05, \n",
    "                                   locked_dropout=0.5, \n",
    "                                   reproject_embeddings=2048, \n",
    "                                   use_crf=True)"
   ]
  },
  {
   "cell_type": "code",
   "execution_count": 6,
   "metadata": {},
   "outputs": [],
   "source": [
    "trainer = ModelTrainer(learn=learn)\n",
    "trainer.train(model_dir=model_dir, \n",
    "              save_best_model=save_file, \n",
    "              learning_rate=0.1, \n",
    "              batch_size=32, \n",
    "              max_epochs=300)"
   ]
  },
  {
   "cell_type": "markdown",
   "metadata": {},
   "source": [
    "### Evaluate"
   ]
  },
  {
   "cell_type": "code",
   "execution_count": 7,
   "metadata": {},
   "outputs": [],
   "source": [
    "# evaluate the test set in data source \n",
    "metrics = learn.evaluate()\n",
    "\n",
    "from pprint import pprint\n",
    "pprint(metrics) "
   ]
  },
  {
   "cell_type": "markdown",
   "metadata": {},
   "source": [
    "**NOTE:**\n",
    "\n",
    "- Maybe, you can also evalute with any test dataset from .csv file.\n",
    "\n",
    "```py\n",
    "test_path = './data/test.csv'\n",
    "\n",
    "metrics = learn.evaluate(data=test_path, \n",
    "                         text_cols='sentence', \n",
    "                         label_cols='ner', \n",
    "                         lowercase=True)\n",
    "```\n",
    "\n",
    "- Additionaly, You can also load the model from file.\n",
    "\n",
    "```py\n",
    "test_path = './data/test.csv'\n",
    "model_path = './models/denver-ner-salebot.pt'\n",
    "\n",
    "model = FlairSequenceTagger(mode='inference', model_path=model_path)\n",
    "\n",
    "metrics = learn.evaluate(data=test_path, \n",
    "                         text_cols='sentence', \n",
    "                         label_cols='ner', \n",
    "                         lowercase=True)\n",
    "```"
   ]
  },
  {
   "cell_type": "markdown",
   "metadata": {},
   "source": [
    "### Get the prediction"
   ]
  },
  {
   "cell_type": "code",
   "execution_count": 8,
   "metadata": {},
   "outputs": [],
   "source": [
    "text = 'shop có ghế ăn ko , xe đẩy còn k sh'\n",
    "model_path = './models/ner/vi_nerr.pt'\n",
    "\n",
    "learn = FlairSequenceTaggerLearner(mode='inference', model_path=model_path)\n",
    "\n",
    "output = learn.process(sample=text, lowercase=False)\n",
    "\n",
    "from pprint import pprint\n",
    "pprint(output)"
   ]
  },
  {
   "cell_type": "code",
   "execution_count": null,
   "metadata": {},
   "outputs": [],
   "source": []
  }
 ],
 "metadata": {
  "kernelspec": {
   "display_name": "denver",
   "language": "python",
   "name": "denver"
  },
  "language_info": {
   "codemirror_mode": {
    "name": "ipython",
    "version": 3
   },
   "file_extension": ".py",
   "mimetype": "text/x-python",
   "name": "python",
   "nbconvert_exporter": "python",
   "pygments_lexer": "ipython3",
   "version": "3.6.9"
  }
 },
 "nbformat": 4,
 "nbformat_minor": 4
}
